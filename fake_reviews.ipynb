{
  "nbformat": 4,
  "nbformat_minor": 0,
  "metadata": {
    "colab": {
      "name": "nokia_ml.ipynb",
      "provenance": [],
      "collapsed_sections": [],
      "authorship_tag": "ABX9TyNQCSbxXldlSPkzx+Bx1Fyc",
      "include_colab_link": true
    },
    "kernelspec": {
      "name": "python3",
      "display_name": "Python 3"
    },
    "language_info": {
      "name": "python"
    }
  },
  "cells": [
    {
      "cell_type": "markdown",
      "metadata": {
        "id": "view-in-github",
        "colab_type": "text"
      },
      "source": [
        "<a href=\"https://colab.research.google.com/github/soph-ma/amazon_database_analysis/blob/main/fake_reviews.ipynb\" target=\"_parent\"><img src=\"https://colab.research.google.com/assets/colab-badge.svg\" alt=\"Open In Colab\"/></a>"
      ]
    },
    {
      "cell_type": "code",
      "execution_count": null,
      "metadata": {
        "id": "A8YGejVnLKIM"
      },
      "outputs": [],
      "source": [
        "import csv\n",
        "import nltk\n",
        "import json\n",
        "import random\n",
        "\n",
        "from nltk.corpus import stopwords\n",
        "from tensorflow import keras\n",
        "from keras.layers import Dropout\n",
        "from keras import preprocessing\n",
        "from keras.preprocessing.text import Tokenizer, text_to_word_sequence\n",
        "from sklearn.model_selection import train_test_split\n",
        "import numpy as np\n",
        "from matplotlib import pyplot as plt"
      ]
    },
    {
      "cell_type": "code",
      "source": [
        "nltk.download('stopwords')\n",
        "nltk.download('punkt')"
      ],
      "metadata": {
        "colab": {
          "base_uri": "https://localhost:8080/"
        },
        "id": "Ss8xuozcAG6A",
        "outputId": "fc0a72f1-8841-443b-90c8-2e5a9faea131"
      },
      "execution_count": null,
      "outputs": [
        {
          "output_type": "stream",
          "name": "stdout",
          "text": [
            "[nltk_data] Downloading package stopwords to /root/nltk_data...\n",
            "[nltk_data]   Package stopwords is already up-to-date!\n",
            "[nltk_data] Downloading package punkt to /root/nltk_data...\n",
            "[nltk_data]   Package punkt is already up-to-date!\n"
          ]
        },
        {
          "output_type": "execute_result",
          "data": {
            "text/plain": [
              "True"
            ]
          },
          "metadata": {},
          "execution_count": 2
        }
      ]
    },
    {
      "cell_type": "code",
      "source": [
        "f_hand = open(\"fake_reviews_dataset.csv\")\n",
        "csvreader = csv.reader(f_hand)\n",
        "\n",
        "header = next(csvreader)\n",
        "\n",
        "rows = []\n",
        "for row in csvreader:\n",
        "  rows.append(row)"
      ],
      "metadata": {
        "id": "yz0MjjElOhCu"
      },
      "execution_count": null,
      "outputs": []
    },
    {
      "cell_type": "markdown",
      "source": [
        "# Preprocessing"
      ],
      "metadata": {
        "id": "rLJmGoBWQXMY"
      }
    },
    {
      "cell_type": "code",
      "source": [
        "# save labels and reviews in separate lists\n",
        "reviews = [rev[3] for rev in rows]   \n",
        "labels = [rev[2] for rev in rows]\n",
        "\n",
        "print(reviews[:10])"
      ],
      "metadata": {
        "colab": {
          "base_uri": "https://localhost:8080/"
        },
        "id": "Shs1FiqdSw5D",
        "outputId": "988af0f6-ef73-420e-823c-1d443b4859cc"
      },
      "execution_count": null,
      "outputs": [
        {
          "output_type": "stream",
          "name": "stdout",
          "text": [
            "['Love this!  Well made, sturdy, and very comfortable.  I love it!Very pretty', \"love it, a great upgrade from the original.  I've had mine for a couple of years\", 'This pillow saved my back. I love the look and feel of this pillow.', 'Missing information on how to use it, but it is a great product for the price!  I', 'Very nice set. Good quality. We have had the set for two months now and have not been', 'I WANTED DIFFERENT FLAVORS BUT THEY ARE NOT.', 'They are the perfect touch for me and the only thing I wish they had a little more space.', 'These done fit well and look great.  I love the smoothness of the edges and the extra', \"Great big numbers & easy to read, the only thing I didn't like is the size of the\", 'My son loves this comforter and it is very well made.  We also have a baby']\n"
          ]
        }
      ]
    },
    {
      "cell_type": "code",
      "source": [
        "# lowercase and remove stopwords\n",
        "all_reviews = []                                    # a list of lists where each list is a separate review\n",
        "def get_data(reviews=reviews):                        \n",
        "  for review in reviews:\n",
        "\n",
        "    stop_words = stopwords.words('english')\n",
        "    review = [w.lower() for w in review.split() if w not in stop_words and w.isalpha()]  \n",
        "    all_reviews.append(review)"
      ],
      "metadata": {
        "id": "6plsO182QakS"
      },
      "execution_count": null,
      "outputs": []
    },
    {
      "cell_type": "code",
      "source": [
        "get_data(reviews)"
      ],
      "metadata": {
        "id": "vIGBDLrCVcwI"
      },
      "execution_count": null,
      "outputs": []
    },
    {
      "cell_type": "code",
      "source": [
        "print(all_reviews[:5])\n",
        "print(len(all_reviews))"
      ],
      "metadata": {
        "colab": {
          "base_uri": "https://localhost:8080/"
        },
        "id": "59M9gREXqanf",
        "outputId": "59fe83cc-fa13-4226-97de-1f2e82a7e675"
      },
      "execution_count": null,
      "outputs": [
        {
          "output_type": "stream",
          "name": "stdout",
          "text": [
            "[['love', 'well', 'i', 'love', 'pretty'], ['love', 'great', 'upgrade', 'mine', 'couple', 'years'], ['this', 'pillow', 'saved', 'i', 'love', 'look', 'feel'], ['missing', 'information', 'use', 'great', 'product', 'i'], ['very', 'nice', 'good', 'we', 'set', 'two', 'months']]\n",
            "40432\n"
          ]
        }
      ]
    },
    {
      "cell_type": "code",
      "source": [
        "# create word index\n",
        "def create_index(filename, all_reviews=all_reviews):\n",
        "  tokenizer = Tokenizer(num_words=100000) \n",
        "\n",
        "  words = []\n",
        "  for rev in all_reviews:\n",
        "    for word in rev:\n",
        "      words.append(word)\n",
        "  tokenizer.fit_on_texts(words) \n",
        "  sequences = tokenizer.texts_to_sequences(words)\n",
        "  word_index = tokenizer.word_index\n",
        "  print(f\"Found {len(word_index)} unique words\")\n",
        "\n",
        "  with open (filename, 'w') as f:\n",
        "        json.dump(word_index, f, indent=4)"
      ],
      "metadata": {
        "id": "4TCAk67zpOGj"
      },
      "execution_count": null,
      "outputs": []
    },
    {
      "cell_type": "code",
      "source": [
        "create_index(\"word_index.json\", all_reviews)"
      ],
      "metadata": {
        "colab": {
          "base_uri": "https://localhost:8080/"
        },
        "id": "GyQ7FOAZrvCf",
        "outputId": "2a7f7e65-3a12-4070-ff41-937272ef026f"
      },
      "execution_count": null,
      "outputs": [
        {
          "output_type": "stream",
          "name": "stdout",
          "text": [
            "Found 33155 unique words\n"
          ]
        }
      ]
    },
    {
      "cell_type": "code",
      "source": [
        "#grab and return word index\n",
        "def get_index(filename): \n",
        "    with open(filename, 'r') as f:\n",
        "        data = json.load(f)\n",
        "    return(data)"
      ],
      "metadata": {
        "id": "ngNiPeUuyjZM"
      },
      "execution_count": null,
      "outputs": []
    },
    {
      "cell_type": "code",
      "source": [
        "word_index = get_index('word_index.json')"
      ],
      "metadata": {
        "id": "ezgJHCzNzM34"
      },
      "execution_count": null,
      "outputs": []
    },
    {
      "cell_type": "code",
      "source": [
        "def padding_data(sentences, index, maxlen=25):\n",
        "  new_sentences = []\n",
        "  for sentence in sentences:                     # in our case for sentence in all_reviews\n",
        "    new_sentence = []\n",
        "    words = []\n",
        "    for word in sentence:\n",
        "      try:\n",
        "        word = index[word]\n",
        "      except:\n",
        "        KeyError\n",
        "        word = 0\n",
        "      words.append(word)  # append words converted to numbers\n",
        "    new_sentence.append(words)\n",
        "    new_sentence = preprocessing.sequence.pad_sequences(new_sentence, maxlen=maxlen, padding='post')\n",
        "    new_sentences.append(new_sentence[0])\n",
        "  return new_sentences"
      ],
      "metadata": {
        "id": "JEhigSHG0MFo"
      },
      "execution_count": null,
      "outputs": []
    },
    {
      "cell_type": "code",
      "source": [
        "padded = padding_data(all_reviews, word_index, maxlen=25)\n",
        "print(padded[:2])"
      ],
      "metadata": {
        "id": "mg0ZFY513a97",
        "colab": {
          "base_uri": "https://localhost:8080/"
        },
        "outputId": "ec7d1b69-636d-4f6e-acad-d027ae6a4c08"
      },
      "execution_count": null,
      "outputs": [
        {
          "output_type": "stream",
          "name": "stdout",
          "text": [
            "[array([ 8, 13,  1,  8, 73,  0,  0,  0,  0,  0,  0,  0,  0,  0,  0,  0,  0,\n",
            "        0,  0,  0,  0,  0,  0,  0,  0], dtype=int32), array([   8,    3, 1909,  571,   99,  125,    0,    0,    0,    0,    0,\n",
            "          0,    0,    0,    0,    0,    0,    0,    0,    0,    0,    0,\n",
            "          0,    0,    0], dtype=int32)]\n"
          ]
        }
      ]
    },
    {
      "cell_type": "code",
      "source": [
        "# reverse word index\n",
        "def reverse_index(word_index):\n",
        "    reverse_word_index = {value: key for (key, value) in word_index.items()}\n",
        "    return(reverse_word_index)\n",
        "    \n",
        "def reconst_text(padded_revs, reverse_word_index):\n",
        "    return(\" \".join([reverse_word_index.get(i, \"?\") for i in padded_revs]))"
      ],
      "metadata": {
        "id": "VD980vnA38Du"
      },
      "execution_count": null,
      "outputs": []
    },
    {
      "cell_type": "code",
      "source": [
        "reverse_word_index = reverse_index(word_index)\n",
        "\n",
        "reconst_text(padded[0], reverse_word_index)"
      ],
      "metadata": {
        "id": "tlqu4UDQ4e7s",
        "colab": {
          "base_uri": "https://localhost:8080/",
          "height": 35
        },
        "outputId": "22757a96-8a52-4901-c8b7-339b77364243"
      },
      "execution_count": null,
      "outputs": [
        {
          "output_type": "execute_result",
          "data": {
            "text/plain": [
              "'love well i love pretty ? ? ? ? ? ? ? ? ? ? ? ? ? ? ? ? ? ? ? ?'"
            ],
            "application/vnd.google.colaboratory.intrinsic+json": {
              "type": "string"
            }
          },
          "metadata": {},
          "execution_count": 15
        }
      ]
    },
    {
      "cell_type": "markdown",
      "source": [
        "# Labelling"
      ],
      "metadata": {
        "id": "RiumaBHE45ln"
      }
    },
    {
      "cell_type": "code",
      "source": [
        "def convert_labels(lbls):\n",
        "  converted_labels = []\n",
        "  for label in lbls:\n",
        "    if label == \"CG\":\n",
        "      converted_labels.append(1)\n",
        "    else:\n",
        "      converted_labels.append(0)\n",
        "  return converted_labels"
      ],
      "metadata": {
        "id": "FFzNaton8KrY"
      },
      "execution_count": null,
      "outputs": []
    },
    {
      "cell_type": "code",
      "source": [
        "convert_lbls = convert_labels(labels)\n"
      ],
      "metadata": {
        "id": "0GROnqXg8d3M"
      },
      "execution_count": null,
      "outputs": []
    },
    {
      "cell_type": "code",
      "source": [
        "def label_data(sentences, labels):\n",
        "  total_chunks = []\n",
        "  for sent, lbl in zip(sentences, labels):\n",
        "    chunk = (sent, lbl)\n",
        "    total_chunks.append(chunk)\n",
        "  return total_chunks"
      ],
      "metadata": {
        "id": "hVj2PKno83-U"
      },
      "execution_count": null,
      "outputs": []
    },
    {
      "cell_type": "code",
      "source": [
        "labelled = label_data(padded, convert_lbls)\n",
        "print(labelled[0])"
      ],
      "metadata": {
        "id": "VjNI9zpy-ghl",
        "colab": {
          "base_uri": "https://localhost:8080/"
        },
        "outputId": "eff02209-5443-4253-bd7c-3b2ef5b65f16"
      },
      "execution_count": null,
      "outputs": [
        {
          "output_type": "stream",
          "name": "stdout",
          "text": [
            "(array([ 8, 13,  1,  8, 73,  0,  0,  0,  0,  0,  0,  0,  0,  0,  0,  0,  0,\n",
            "        0,  0,  0,  0,  0,  0,  0,  0], dtype=int32), 1)\n"
          ]
        }
      ]
    },
    {
      "cell_type": "markdown",
      "source": [
        "# Split data into training and testing"
      ],
      "metadata": {
        "id": "KLhuVn0r_xoM"
      }
    },
    {
      "cell_type": "code",
      "source": [
        "X = np.array(padded)\n",
        "y = np.array(convert_lbls)\n",
        "X_train, X_test, y_train, y_test = train_test_split(X, y, train_size=.8, test_size=0.2, random_state=100)"
      ],
      "metadata": {
        "id": "LtWVhWad_2Rl"
      },
      "execution_count": null,
      "outputs": []
    },
    {
      "cell_type": "markdown",
      "source": [
        "# Create model"
      ],
      "metadata": {
        "id": "GokgNa1SCHJq"
      }
    },
    {
      "cell_type": "markdown",
      "source": [
        "**Logistic regression**"
      ],
      "metadata": {
        "id": "fpW3OWwACcL2"
      }
    },
    {
      "cell_type": "code",
      "source": [
        "# create model\n",
        "def create_logreg():\n",
        "  model = keras.Sequential()\n",
        "  model.add(keras.layers.Dense(32, input_shape=(25,), activation=\"sigmoid\"))\n",
        "  model.summary()\n",
        "  model.compile(optimizer=\"adam\", loss='squared_hinge', metrics=['accuracy'])\n",
        "  return(model)"
      ],
      "metadata": {
        "id": "YXbV0xtmd89A"
      },
      "execution_count": null,
      "outputs": []
    },
    {
      "cell_type": "code",
      "source": [
        "model = create_logreg()"
      ],
      "metadata": {
        "colab": {
          "base_uri": "https://localhost:8080/"
        },
        "id": "ExPUqFN2fOTo",
        "outputId": "c64bec0e-6dd8-4c7c-cc4e-e6d894a2a1f0"
      },
      "execution_count": null,
      "outputs": [
        {
          "output_type": "stream",
          "name": "stdout",
          "text": [
            "Model: \"sequential_6\"\n",
            "_________________________________________________________________\n",
            " Layer (type)                Output Shape              Param #   \n",
            "=================================================================\n",
            " dense_9 (Dense)             (None, 32)                832       \n",
            "                                                                 \n",
            "=================================================================\n",
            "Total params: 832\n",
            "Trainable params: 832\n",
            "Non-trainable params: 0\n",
            "_________________________________________________________________\n"
          ]
        }
      ]
    },
    {
      "cell_type": "code",
      "source": [
        "def train_model(model, x_train, y_train, x_test, y_test, \n",
        "                val_size=.1, epochs=1, batch_size=32):\n",
        "  vals = int(len(labelled)*val_size)\n",
        "  x_val = x_train[:vals]\n",
        "  x_train = x_train[vals:]\n",
        "  y_val = y_train[:vals]\n",
        "  y_train = y_train[vals:]\n",
        "  \n",
        "  history = model.fit(x_train, y_train, epochs=epochs, batch_size=batch_size, validation_data=(x_val, y_val), verbose=1, shuffle=True)\n",
        "\n",
        "  plt.plot(history.history['loss'], label='MAE (training data)')\n",
        "  plt.plot(history.history['val_loss'], label='MAE (validation data)')\n",
        "  plt.title('MAE logistic regression')\n",
        "  plt.ylabel('MAE value')\n",
        "  plt.xlabel('No. epoch')\n",
        "  plt.legend(loc=\"upper left\")\n",
        "  plt.show()\n",
        "\n",
        "  model_results = model.evaluate(x_test, y_test)\n",
        "  return model"
      ],
      "metadata": {
        "id": "32mh6VPafSpa"
      },
      "execution_count": null,
      "outputs": []
    },
    {
      "cell_type": "code",
      "source": [
        "model = train_model(model, x_train=X_train, y_train=y_train, x_test=X_test, y_test=y_test, epochs=50, batch_size=32)"
      ],
      "metadata": {
        "colab": {
          "base_uri": "https://localhost:8080/",
          "height": 1000
        },
        "id": "03EPe8XdfvTO",
        "outputId": "a8ed05ac-5d2a-4913-f835-fb1809fd36d8"
      },
      "execution_count": null,
      "outputs": [
        {
          "output_type": "stream",
          "name": "stdout",
          "text": [
            "Epoch 1/50\n",
            "885/885 [==============================] - 2s 2ms/step - loss: 1.0096 - accuracy: 0.4030 - val_loss: 1.0060 - val_accuracy: 0.4076\n",
            "Epoch 2/50\n",
            "885/885 [==============================] - 2s 2ms/step - loss: 1.0084 - accuracy: 0.4121 - val_loss: 1.0045 - val_accuracy: 0.4291\n",
            "Epoch 3/50\n",
            "885/885 [==============================] - 2s 2ms/step - loss: 1.0080 - accuracy: 0.4141 - val_loss: 1.0049 - val_accuracy: 0.4064\n",
            "Epoch 4/50\n",
            "885/885 [==============================] - 2s 2ms/step - loss: 1.0082 - accuracy: 0.3998 - val_loss: 1.0056 - val_accuracy: 0.4000\n",
            "Epoch 5/50\n",
            "885/885 [==============================] - 2s 2ms/step - loss: 1.0082 - accuracy: 0.4010 - val_loss: 1.0059 - val_accuracy: 0.4002\n",
            "Epoch 6/50\n",
            "885/885 [==============================] - 2s 2ms/step - loss: 1.0097 - accuracy: 0.3884 - val_loss: 1.0067 - val_accuracy: 0.4056\n",
            "Epoch 7/50\n",
            "885/885 [==============================] - 2s 2ms/step - loss: 1.0099 - accuracy: 0.4197 - val_loss: 1.0056 - val_accuracy: 0.4405\n",
            "Epoch 8/50\n",
            "885/885 [==============================] - 2s 2ms/step - loss: 1.0079 - accuracy: 0.4405 - val_loss: 1.0045 - val_accuracy: 0.4304\n",
            "Epoch 9/50\n",
            "885/885 [==============================] - 2s 2ms/step - loss: 1.0067 - accuracy: 0.4195 - val_loss: 1.0032 - val_accuracy: 0.4324\n",
            "Epoch 10/50\n",
            "885/885 [==============================] - 2s 2ms/step - loss: 1.0072 - accuracy: 0.4312 - val_loss: 1.0045 - val_accuracy: 0.4460\n",
            "Epoch 11/50\n",
            "885/885 [==============================] - 2s 2ms/step - loss: 1.0085 - accuracy: 0.4108 - val_loss: 1.0052 - val_accuracy: 0.4076\n",
            "Epoch 12/50\n",
            "885/885 [==============================] - 2s 2ms/step - loss: 1.0083 - accuracy: 0.4040 - val_loss: 1.0060 - val_accuracy: 0.3995\n",
            "Epoch 13/50\n",
            "885/885 [==============================] - 2s 2ms/step - loss: 1.0123 - accuracy: 0.3176 - val_loss: 1.0091 - val_accuracy: 0.3107\n",
            "Epoch 14/50\n",
            "885/885 [==============================] - 2s 2ms/step - loss: 1.0110 - accuracy: 0.3256 - val_loss: 1.0048 - val_accuracy: 0.3750\n",
            "Epoch 15/50\n",
            "885/885 [==============================] - 2s 2ms/step - loss: 1.0078 - accuracy: 0.3791 - val_loss: 1.0051 - val_accuracy: 0.3789\n",
            "Epoch 16/50\n",
            "885/885 [==============================] - 2s 2ms/step - loss: 1.0094 - accuracy: 0.3844 - val_loss: 1.0067 - val_accuracy: 0.3990\n",
            "Epoch 17/50\n",
            "885/885 [==============================] - 2s 2ms/step - loss: 1.0113 - accuracy: 0.3879 - val_loss: 1.0078 - val_accuracy: 0.3807\n",
            "Epoch 18/50\n",
            "885/885 [==============================] - 2s 2ms/step - loss: 1.0103 - accuracy: 0.3865 - val_loss: 1.0055 - val_accuracy: 0.4017\n",
            "Epoch 19/50\n",
            "885/885 [==============================] - 2s 2ms/step - loss: 1.0091 - accuracy: 0.3963 - val_loss: 1.0047 - val_accuracy: 0.4165\n",
            "Epoch 20/50\n",
            "885/885 [==============================] - 2s 2ms/step - loss: 1.0080 - accuracy: 0.3963 - val_loss: 1.0051 - val_accuracy: 0.3960\n",
            "Epoch 21/50\n",
            "885/885 [==============================] - 2s 2ms/step - loss: 1.0089 - accuracy: 0.3880 - val_loss: 1.0052 - val_accuracy: 0.3982\n",
            "Epoch 22/50\n",
            "885/885 [==============================] - 2s 2ms/step - loss: 1.0089 - accuracy: 0.3877 - val_loss: 1.0044 - val_accuracy: 0.4037\n",
            "Epoch 23/50\n",
            "885/885 [==============================] - 2s 2ms/step - loss: 1.0082 - accuracy: 0.3891 - val_loss: 1.0045 - val_accuracy: 0.4017\n",
            "Epoch 24/50\n",
            "885/885 [==============================] - 2s 2ms/step - loss: 1.0095 - accuracy: 0.3785 - val_loss: 1.0053 - val_accuracy: 0.3903\n",
            "Epoch 25/50\n",
            "885/885 [==============================] - 2s 2ms/step - loss: 1.0111 - accuracy: 0.3564 - val_loss: 1.0084 - val_accuracy: 0.3470\n",
            "Epoch 26/50\n",
            "885/885 [==============================] - 2s 2ms/step - loss: 1.0130 - accuracy: 0.3387 - val_loss: 1.0064 - val_accuracy: 0.3737\n",
            "Epoch 27/50\n",
            "885/885 [==============================] - 2s 2ms/step - loss: 1.0104 - accuracy: 0.3684 - val_loss: 1.0066 - val_accuracy: 0.3782\n",
            "Epoch 28/50\n",
            "885/885 [==============================] - 2s 2ms/step - loss: 1.0113 - accuracy: 0.3649 - val_loss: 1.0061 - val_accuracy: 0.3844\n",
            "Epoch 29/50\n",
            "885/885 [==============================] - 2s 2ms/step - loss: 1.0116 - accuracy: 0.3609 - val_loss: 1.0066 - val_accuracy: 0.3777\n",
            "Epoch 30/50\n",
            "885/885 [==============================] - 2s 2ms/step - loss: 1.0103 - accuracy: 0.3711 - val_loss: 1.0053 - val_accuracy: 0.3940\n",
            "Epoch 31/50\n",
            "885/885 [==============================] - 2s 2ms/step - loss: 1.0113 - accuracy: 0.3719 - val_loss: 1.0058 - val_accuracy: 0.3975\n",
            "Epoch 32/50\n",
            "885/885 [==============================] - 2s 2ms/step - loss: 1.0108 - accuracy: 0.3839 - val_loss: 1.0055 - val_accuracy: 0.3985\n",
            "Epoch 33/50\n",
            "885/885 [==============================] - 2s 2ms/step - loss: 1.0099 - accuracy: 0.3875 - val_loss: 1.0052 - val_accuracy: 0.4059\n",
            "Epoch 34/50\n",
            "885/885 [==============================] - 2s 2ms/step - loss: 1.0092 - accuracy: 0.3949 - val_loss: 1.0050 - val_accuracy: 0.4118\n",
            "Epoch 35/50\n",
            "885/885 [==============================] - 2s 2ms/step - loss: 1.0089 - accuracy: 0.3927 - val_loss: 1.0052 - val_accuracy: 0.4024\n",
            "Epoch 36/50\n",
            "885/885 [==============================] - 2s 2ms/step - loss: 1.0094 - accuracy: 0.3857 - val_loss: 1.0062 - val_accuracy: 0.3861\n",
            "Epoch 37/50\n",
            "885/885 [==============================] - 2s 2ms/step - loss: 1.0107 - accuracy: 0.3687 - val_loss: 1.0071 - val_accuracy: 0.3772\n",
            "Epoch 38/50\n",
            "885/885 [==============================] - 2s 2ms/step - loss: 1.0116 - accuracy: 0.3638 - val_loss: 1.0086 - val_accuracy: 0.3760\n",
            "Epoch 39/50\n",
            "885/885 [==============================] - 2s 2ms/step - loss: 1.0123 - accuracy: 0.3620 - val_loss: 1.0087 - val_accuracy: 0.3715\n",
            "Epoch 40/50\n",
            "885/885 [==============================] - 2s 2ms/step - loss: 1.0117 - accuracy: 0.3569 - val_loss: 1.0086 - val_accuracy: 0.3740\n",
            "Epoch 41/50\n",
            "885/885 [==============================] - 2s 2ms/step - loss: 1.0120 - accuracy: 0.3584 - val_loss: 1.0096 - val_accuracy: 0.3668\n",
            "Epoch 42/50\n",
            "885/885 [==============================] - 2s 2ms/step - loss: 1.0127 - accuracy: 0.3576 - val_loss: 1.0116 - val_accuracy: 0.3537\n",
            "Epoch 43/50\n",
            "885/885 [==============================] - 2s 2ms/step - loss: 1.0136 - accuracy: 0.3615 - val_loss: 1.0092 - val_accuracy: 0.3774\n",
            "Epoch 44/50\n",
            "885/885 [==============================] - 2s 2ms/step - loss: 1.0129 - accuracy: 0.3670 - val_loss: 1.0088 - val_accuracy: 0.3760\n",
            "Epoch 45/50\n",
            "885/885 [==============================] - 2s 2ms/step - loss: 1.0117 - accuracy: 0.3681 - val_loss: 1.0084 - val_accuracy: 0.3797\n",
            "Epoch 46/50\n",
            "885/885 [==============================] - 2s 2ms/step - loss: 1.0102 - accuracy: 0.3833 - val_loss: 1.0066 - val_accuracy: 0.4012\n",
            "Epoch 47/50\n",
            "885/885 [==============================] - 2s 2ms/step - loss: 1.0098 - accuracy: 0.3860 - val_loss: 1.0062 - val_accuracy: 0.4069\n",
            "Epoch 48/50\n",
            "885/885 [==============================] - 2s 2ms/step - loss: 1.0094 - accuracy: 0.3909 - val_loss: 1.0066 - val_accuracy: 0.3955\n",
            "Epoch 49/50\n",
            "885/885 [==============================] - 2s 2ms/step - loss: 1.0099 - accuracy: 0.3856 - val_loss: 1.0072 - val_accuracy: 0.3925\n",
            "Epoch 50/50\n",
            "885/885 [==============================] - 2s 2ms/step - loss: 1.0100 - accuracy: 0.3864 - val_loss: 1.0063 - val_accuracy: 0.4059\n"
          ]
        },
        {
          "output_type": "display_data",
          "data": {
            "text/plain": [
              "<Figure size 432x288 with 1 Axes>"
            ],
            "image/png": "[encoded data removed]"
          },
          "metadata": {
            "needs_background": "light"
          }
        },
        {
          "output_type": "stream",
          "name": "stdout",
          "text": [
            "253/253 [==============================] - 0s 2ms/step - loss: 1.0086 - accuracy: 0.3932\n"
          ]
        }
      ]
    },
    {
      "cell_type": "markdown",
      "source": [
        "**DNN**"
      ],
      "metadata": {
        "id": "86rzyVBPCroc"
      }
    },
    {
      "cell_type": "code",
      "source": [
        "#create model\n",
        "def create_dnn():\n",
        "  model = keras.Sequential()\n",
        "  model.add(keras.layers.Embedding(100000, 25))\n",
        "  model.add(keras.layers.GlobalAveragePooling1D())\n",
        "  model.add(keras.layers.Dense(32, activation='relu'))\n",
        "  model.add(Dropout(0.3))\n",
        "  model.add(keras.layers.Dense(32, activation='relu'))\n",
        "  model.add(Dropout(0.2))\n",
        "  model.add(keras.layers.Dense(16, activation='relu'))\n",
        "  model.add(Dropout(0.2))\n",
        "  model.add(keras.layers.Dense(1, activation='sigmoid',))\n",
        "  model.summary()\n",
        "  model.compile(optimizer='adam', loss='squared_hinge', metrics=['accuracy'])\n",
        "  return(model)"
      ],
      "metadata": {
        "id": "aVqesy-CFL2x"
      },
      "execution_count": null,
      "outputs": []
    },
    {
      "cell_type": "code",
      "source": [
        "model2 = create_dnn()"
      ],
      "metadata": {
        "id": "QASZIeM2FSSZ",
        "colab": {
          "base_uri": "https://localhost:8080/"
        },
        "outputId": "5e3c857f-fe37-4dcc-8216-2c5b691599c4"
      },
      "execution_count": null,
      "outputs": [
        {
          "output_type": "stream",
          "name": "stdout",
          "text": [
            "Model: \"sequential\"\n",
            "_________________________________________________________________\n",
            " Layer (type)                Output Shape              Param #   \n",
            "=================================================================\n",
            " embedding (Embedding)       (None, None, 25)          2500000   \n",
            "                                                                 \n",
            " global_average_pooling1d (G  (None, 25)               0         \n",
            " lobalAveragePooling1D)                                          \n",
            "                                                                 \n",
            " dense (Dense)               (None, 32)                832       \n",
            "                                                                 \n",
            " dropout (Dropout)           (None, 32)                0         \n",
            "                                                                 \n",
            " dense_1 (Dense)             (None, 32)                1056      \n",
            "                                                                 \n",
            " dropout_1 (Dropout)         (None, 32)                0         \n",
            "                                                                 \n",
            " dense_2 (Dense)             (None, 16)                528       \n",
            "                                                                 \n",
            " dropout_2 (Dropout)         (None, 16)                0         \n",
            "                                                                 \n",
            " dense_3 (Dense)             (None, 1)                 17        \n",
            "                                                                 \n",
            "=================================================================\n",
            "Total params: 2,502,433\n",
            "Trainable params: 2,502,433\n",
            "Non-trainable params: 0\n",
            "_________________________________________________________________\n"
          ]
        }
      ]
    },
    {
      "cell_type": "code",
      "source": [
        "def train_model2(model, x_train, y_train, x_test, y_test, \n",
        "                val_size=.1, epochs=1, batch_size=32):\n",
        "  vals = int(len(labelled)*val_size)\n",
        "  x_val = x_train[:vals]\n",
        "  x_train = x_train[vals:]\n",
        "  y_val = y_train[:vals]\n",
        "  y_train = y_train[vals:]\n",
        "  \n",
        "  history = model.fit(x_train, y_train, epochs=epochs, batch_size=batch_size, validation_data=(x_val, y_val), verbose=1, shuffle=True)\n",
        "\n",
        "  plt.plot(history.history['loss'], label='MAE (training data)')\n",
        "  plt.plot(history.history['val_loss'], label='MAE (validation data)')\n",
        "  plt.title('MAE deep neural network')\n",
        "  plt.ylabel('MAE value')\n",
        "  plt.xlabel('No. epoch')\n",
        "  plt.legend(loc=\"upper left\")\n",
        "  plt.show()\n",
        "\n",
        "  model_results = model.evaluate(x_test, y_test)\n",
        "  return model"
      ],
      "metadata": {
        "id": "JA_FLmfjGb0v"
      },
      "execution_count": null,
      "outputs": []
    },
    {
      "cell_type": "code",
      "source": [
        "model = train_model2(model2, x_train=X_train, y_train=y_train, x_test=X_test, y_test=y_test, epochs=20, batch_size=32)"
      ],
      "metadata": {
        "id": "AASJMoXcMZbM",
        "colab": {
          "base_uri": "https://localhost:8080/",
          "height": 1000
        },
        "outputId": "7520e1bb-26d3-413b-9b7d-5ccb6cdc926a"
      },
      "execution_count": null,
      "outputs": [
        {
          "output_type": "stream",
          "name": "stdout",
          "text": [
            "Epoch 1/20\n",
            "885/885 [==============================] - 32s 36ms/step - loss: 0.7948 - accuracy: 0.7385 - val_loss: 0.6813 - val_accuracy: 0.8437\n",
            "Epoch 2/20\n",
            "885/885 [==============================] - 39s 44ms/step - loss: 0.6640 - accuracy: 0.8627 - val_loss: 0.6735 - val_accuracy: 0.8580\n",
            "Epoch 3/20\n",
            "885/885 [==============================] - 28s 32ms/step - loss: 0.6377 - accuracy: 0.8870 - val_loss: 0.6890 - val_accuracy: 0.8679\n",
            "Epoch 4/20\n",
            "885/885 [==============================] - 27s 31ms/step - loss: 0.6223 - accuracy: 0.8988 - val_loss: 0.6914 - val_accuracy: 0.8489\n",
            "Epoch 5/20\n",
            "885/885 [==============================] - 28s 31ms/step - loss: 0.6131 - accuracy: 0.9073 - val_loss: 0.6877 - val_accuracy: 0.8645\n",
            "Epoch 6/20\n",
            "885/885 [==============================] - 27s 31ms/step - loss: 0.6083 - accuracy: 0.9121 - val_loss: 0.6866 - val_accuracy: 0.8593\n",
            "Epoch 7/20\n",
            "885/885 [==============================] - 27s 30ms/step - loss: 0.5996 - accuracy: 0.9182 - val_loss: 0.6880 - val_accuracy: 0.8630\n",
            "Epoch 8/20\n",
            "885/885 [==============================] - 27s 31ms/step - loss: 0.5938 - accuracy: 0.9236 - val_loss: 0.7084 - val_accuracy: 0.8652\n",
            "Epoch 9/20\n",
            "885/885 [==============================] - 28s 32ms/step - loss: 0.5888 - accuracy: 0.9268 - val_loss: 0.7108 - val_accuracy: 0.8652\n",
            "Epoch 10/20\n",
            "885/885 [==============================] - 27s 31ms/step - loss: 0.5852 - accuracy: 0.9308 - val_loss: 0.7113 - val_accuracy: 0.8610\n",
            "Epoch 11/20\n",
            "885/885 [==============================] - 27s 31ms/step - loss: 0.5838 - accuracy: 0.9304 - val_loss: 0.7014 - val_accuracy: 0.8607\n",
            "Epoch 12/20\n",
            "885/885 [==============================] - 27s 31ms/step - loss: 0.5785 - accuracy: 0.9355 - val_loss: 0.7109 - val_accuracy: 0.8640\n",
            "Epoch 13/20\n",
            "885/885 [==============================] - 27s 31ms/step - loss: 0.5765 - accuracy: 0.9364 - val_loss: 0.7586 - val_accuracy: 0.8657\n",
            "Epoch 14/20\n",
            "885/885 [==============================] - 27s 31ms/step - loss: 0.5722 - accuracy: 0.9401 - val_loss: 0.7318 - val_accuracy: 0.8645\n",
            "Epoch 15/20\n",
            "885/885 [==============================] - 27s 31ms/step - loss: 0.5714 - accuracy: 0.9403 - val_loss: 0.7091 - val_accuracy: 0.8570\n",
            "Epoch 16/20\n",
            "885/885 [==============================] - 27s 31ms/step - loss: 0.5683 - accuracy: 0.9428 - val_loss: 0.7283 - val_accuracy: 0.8640\n",
            "Epoch 17/20\n",
            "885/885 [==============================] - 27s 31ms/step - loss: 0.5692 - accuracy: 0.9424 - val_loss: 0.7182 - val_accuracy: 0.8632\n",
            "Epoch 18/20\n",
            "885/885 [==============================] - 27s 31ms/step - loss: 0.5654 - accuracy: 0.9450 - val_loss: 0.7232 - val_accuracy: 0.8598\n",
            "Epoch 19/20\n",
            "885/885 [==============================] - 27s 30ms/step - loss: 0.5646 - accuracy: 0.9456 - val_loss: 0.7335 - val_accuracy: 0.8575\n",
            "Epoch 20/20\n",
            "885/885 [==============================] - 27s 31ms/step - loss: 0.5628 - accuracy: 0.9478 - val_loss: 0.7374 - val_accuracy: 0.8521\n"
          ]
        },
        {
          "output_type": "display_data",
          "data": {
            "text/plain": [
              "<Figure size 432x288 with 1 Axes>"
            ],
            "image/png": "[encoded data removed]"
          },
          "metadata": {
            "needs_background": "light"
          }
        },
        {
          "output_type": "stream",
          "name": "stdout",
          "text": [
            "253/253 [==============================] - 0s 2ms/step - loss: 0.7293 - accuracy: 0.8535\n"
          ]
        }
      ]
    },
    {
      "cell_type": "code",
      "source": [
        "model.save('models/fake_real.model')"
      ],
      "metadata": {
        "colab": {
          "base_uri": "https://localhost:8080/"
        },
        "id": "_ezMBSIvp81O",
        "outputId": "8dd5b309-a29b-469e-836a-4127c517cf3d"
      },
      "execution_count": null,
      "outputs": [
        {
          "output_type": "stream",
          "name": "stdout",
          "text": [
            "INFO:tensorflow:Assets written to: models/fake_real.model/assets\n"
          ]
        }
      ]
    }
  ]
}