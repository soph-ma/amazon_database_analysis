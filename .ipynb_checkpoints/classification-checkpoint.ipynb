{
 "cells": [
  {
   "cell_type": "code",
   "execution_count": 1,
   "metadata": {
    "id": "A8YGejVnLKIM"
   },
   "outputs": [],
   "source": [
    "import csv\n",
    "import nltk\n",
    "import json\n",
    "import random\n",
    "\n",
    "from nltk.corpus import stopwords\n",
    "from tensorflow import keras\n",
    "from keras.layers import Dropout\n",
    "from keras import preprocessing\n",
    "from keras.preprocessing.text import Tokenizer, text_to_word_sequence\n",
    "from sklearn.model_selection import train_test_split\n",
    "import numpy as np\n",
    "from matplotlib import pyplot as plt"
   ]
  },
  {
   "cell_type": "code",
   "execution_count": 2,
   "metadata": {
    "colab": {
     "base_uri": "https://localhost:8080/"
    },
    "id": "Ss8xuozcAG6A",
    "outputId": "1991f5a6-5a38-4c2a-dd29-911e52906cf6"
   },
   "outputs": [
    {
     "name": "stderr",
     "output_type": "stream",
     "text": [
      "[nltk_data] Downloading package stopwords to /root/nltk_data...\n",
      "[nltk_data]   Package stopwords is already up-to-date!\n",
      "[nltk_data] Downloading package punkt to /root/nltk_data...\n",
      "[nltk_data]   Package punkt is already up-to-date!\n"
     ]
    },
    {
     "data": {
      "text/plain": [
       "True"
      ]
     },
     "execution_count": 2,
     "metadata": {},
     "output_type": "execute_result"
    }
   ],
   "source": [
    "nltk.download('stopwords')\n",
    "nltk.download('punkt')"
   ]
  },
  {
   "cell_type": "markdown",
   "metadata": {},
   "source": [
    "# Open dataset and append its contents to the list"
   ]
  },
  {
   "cell_type": "code",
   "execution_count": 3,
   "metadata": {
    "id": "yz0MjjElOhCu"
   },
   "outputs": [],
   "source": [
    "f_hand = open(\"fake_reviews_dataset.csv\")\n",
    "csvreader = csv.reader(f_hand)\n",
    "\n",
    "header = next(csvreader)\n",
    "\n",
    "rows = []\n",
    "for row in csvreader:\n",
    "  rows.append(row)"
   ]
  },
  {
   "cell_type": "markdown",
   "metadata": {
    "id": "rLJmGoBWQXMY"
   },
   "source": [
    "# Preprocessing"
   ]
  },
  {
   "cell_type": "code",
   "execution_count": 4,
   "metadata": {
    "colab": {
     "base_uri": "https://localhost:8080/"
    },
    "id": "Shs1FiqdSw5D",
    "outputId": "07a8ddf4-f882-4151-c32e-48894deb86b3"
   },
   "outputs": [
    {
     "name": "stdout",
     "output_type": "stream",
     "text": [
      "['Love this!  Well made, sturdy, and very comfortable.  I love it!Very pretty', \"love it, a great upgrade from the original.  I've had mine for a couple of years\", 'This pillow saved my back. I love the look and feel of this pillow.', 'Missing information on how to use it, but it is a great product for the price!  I', 'Very nice set. Good quality. We have had the set for two months now and have not been', 'I WANTED DIFFERENT FLAVORS BUT THEY ARE NOT.', 'They are the perfect touch for me and the only thing I wish they had a little more space.', 'These done fit well and look great.  I love the smoothness of the edges and the extra', \"Great big numbers & easy to read, the only thing I didn't like is the size of the\", 'My son loves this comforter and it is very well made.  We also have a baby']\n",
      "['CG', 'CG', 'CG', 'CG', 'CG', 'CG', 'CG', 'CG', 'CG', 'CG']\n",
      "40432\n",
      "40432\n"
     ]
    }
   ],
   "source": [
    "# save labels and reviews in separate lists\n",
    "reviews = [rev[3] for rev in rows]   \n",
    "labels = [rev[2] for rev in rows]\n",
    "\n",
    "print(reviews[:10])\n",
    "print(labels[:10])\n",
    "print(len(reviews))\n",
    "print(len(labels))"
   ]
  },
  {
   "cell_type": "code",
   "execution_count": 5,
   "metadata": {
    "id": "6plsO182QakS"
   },
   "outputs": [],
   "source": [
    "all_reviews = []                                    # a list of lists where each list is a separate review\n",
    "def get_data(reviews=reviews):                        \n",
    "  for review in reviews:\n",
    "\n",
    "    stop_words = stopwords.words('english')\n",
    "    # lowercase and remove stopwords\n",
    "    review = [w.lower() for w in review.split() if w not in stop_words]  \n",
    "    all_reviews.append(review)"
   ]
  },
  {
   "cell_type": "code",
   "execution_count": 6,
   "metadata": {
    "id": "vIGBDLrCVcwI"
   },
   "outputs": [],
   "source": [
    "get_data(reviews)"
   ]
  },
  {
   "cell_type": "code",
   "execution_count": 7,
   "metadata": {
    "colab": {
     "base_uri": "https://localhost:8080/"
    },
    "id": "59M9gREXqanf",
    "outputId": "7cf85d34-85e2-4745-9548-deaec76fa7d2"
   },
   "outputs": [
    {
     "name": "stdout",
     "output_type": "stream",
     "text": [
      "[['love', 'this!', 'well', 'made,', 'sturdy,', 'comfortable.', 'i', 'love', 'it!very', 'pretty'], ['love', 'it,', 'great', 'upgrade', 'original.', \"i've\", 'mine', 'couple', 'years'], ['this', 'pillow', 'saved', 'back.', 'i', 'love', 'look', 'feel', 'pillow.'], ['missing', 'information', 'use', 'it,', 'great', 'product', 'price!', 'i'], ['very', 'nice', 'set.', 'good', 'quality.', 'we', 'set', 'two', 'months']]\n",
      "40432\n"
     ]
    }
   ],
   "source": [
    "print(all_reviews[:5])\n",
    "print(len(all_reviews))"
   ]
  },
  {
   "cell_type": "markdown",
   "metadata": {},
   "source": [
    "# Create word index "
   ]
  },
  {
   "cell_type": "code",
   "execution_count": 8,
   "metadata": {
    "id": "4TCAk67zpOGj"
   },
   "outputs": [],
   "source": [
    " def create_index(filename, all_reviews=all_reviews):\n",
    "  tokenizer = Tokenizer(num_words=100000) # number of tokenized words (which the model will be able to recognize)\n",
    "\n",
    "  words = []\n",
    "  for rev in all_reviews:\n",
    "    for word in rev:\n",
    "      words.append(word)\n",
    "  tokenizer.fit_on_texts(words) \n",
    "  sequences = tokenizer.texts_to_sequences(words)\n",
    "  word_index = tokenizer.word_index\n",
    "  print(f\"Found {len(word_index)} unique words\")\n",
    "    \n",
    "    # save words and their indiced in a json file\n",
    "  with open (filename, 'w') as f:\n",
    "        json.dump(word_index, f, indent=4)"
   ]
  },
  {
   "cell_type": "code",
   "execution_count": 9,
   "metadata": {
    "colab": {
     "base_uri": "https://localhost:8080/"
    },
    "id": "GyQ7FOAZrvCf",
    "outputId": "02e3189c-9155-41af-aea4-0084e37ca241"
   },
   "outputs": [
    {
     "name": "stdout",
     "output_type": "stream",
     "text": [
      "Found 43591 unique words\n"
     ]
    }
   ],
   "source": [
    "create_index(\"word_index.json\", all_reviews)"
   ]
  },
  {
   "cell_type": "code",
   "execution_count": 10,
   "metadata": {
    "id": "ngNiPeUuyjZM"
   },
   "outputs": [],
   "source": [
    "#grab and return word index\n",
    "def get_index(filename): \n",
    "    with open(filename, 'r') as f:\n",
    "        data = json.load(f)\n",
    "    return(data)"
   ]
  },
  {
   "cell_type": "code",
   "execution_count": 11,
   "metadata": {
    "id": "ezgJHCzNzM34"
   },
   "outputs": [],
   "source": [
    "word_index = get_index('word_index.json')"
   ]
  },
  {
   "cell_type": "markdown",
   "metadata": {},
   "source": [
    "# Padding "
   ]
  },
  {
   "cell_type": "code",
   "execution_count": 12,
   "metadata": {
    "id": "JEhigSHG0MFo"
   },
   "outputs": [],
   "source": [
    "def padding_data(sentences, index, maxlen=25):\n",
    "  new_sentences = []\n",
    "  for sentence in sentences:                     # in our case for sentence in all_reviews\n",
    "    new_sentence = []\n",
    "    words = []\n",
    "    for word in sentence:\n",
    "      try:\n",
    "        word = index[word]\n",
    "      except:\n",
    "        KeyError\n",
    "        word = 0\n",
    "      words.append(word)  # append words converted to numbers\n",
    "    new_sentence.append(words)\n",
    "    new_sentence = preprocessing.sequence.pad_sequences(new_sentence, maxlen=maxlen, padding='post')\n",
    "    new_sentences.append(new_sentence[0])\n",
    "  return new_sentences"
   ]
  },
  {
   "cell_type": "code",
   "execution_count": 14,
   "metadata": {
    "colab": {
     "base_uri": "https://localhost:8080/"
    },
    "id": "Gp1_ioiG75TG",
    "outputId": "d378c68f-24ab-4457-e61d-23fb0eefcf05"
   },
   "outputs": [
    {
     "name": "stdout",
     "output_type": "stream",
     "text": [
      "38.053225168183616\n"
     ]
    }
   ],
   "source": [
    "# we count the avg number of words to understand maxlen\n",
    "num_words = 0\n",
    "for review in all_reviews:\n",
    "  length = len(review)\n",
    "  num_words += length\n",
    "\n",
    "avg = num_words / len(all_reviews)\n",
    "print(avg)  "
   ]
  },
  {
   "cell_type": "code",
   "execution_count": 13,
   "metadata": {
    "colab": {
     "base_uri": "https://localhost:8080/"
    },
    "id": "mg0ZFY513a97",
    "outputId": "56f9e946-3807-47d7-baa9-c6005a50d407"
   },
   "outputs": [
    {
     "name": "stdout",
     "output_type": "stream",
     "text": [
      "[array([ 9,  0, 10,  0,  0,  0,  1,  9,  0, 85,  0,  0,  0,  0,  0,  0,  0,\n",
      "        0,  0,  0,  0,  0,  0,  0,  0,  0,  0,  0,  0,  0,  0,  0,  0,  0,\n",
      "        0,  0,  0,  0], dtype=int32), array([   9,    0,    4, 2112,    0,   52,  635,  127,  106,    0,    0,\n",
      "          0,    0,    0,    0,    0,    0,    0,    0,    0,    0,    0,\n",
      "          0,    0,    0,    0,    0,    0,    0,    0,    0,    0,    0,\n",
      "          0,    0,    0,    0,    0], dtype=int32)]\n"
     ]
    }
   ],
   "source": [
    "padded = padding_data(all_reviews, word_index, maxlen=38) \n",
    "print(padded[:2])\n",
    "# maxlen is 38 because it's the average number of words in the review. It doesn't equal maximum number of words, \n",
    "# because the model doesn't show high results, I've tried that :)"
   ]
  },
  {
   "cell_type": "code",
   "execution_count": 15,
   "metadata": {
    "id": "VD980vnA38Du"
   },
   "outputs": [],
   "source": [
    "# reverse word index\n",
    "def reverse_index(word_index):\n",
    "    reverse_word_index = {value: key for (key, value) in word_index.items()}\n",
    "    return(reverse_word_index)\n",
    "    \n",
    "def reconst_text(padded_revs, reverse_word_index):\n",
    "    return(\" \".join([reverse_word_index.get(i, \"?\") for i in padded_revs]))"
   ]
  },
  {
   "cell_type": "code",
   "execution_count": 16,
   "metadata": {
    "colab": {
     "base_uri": "https://localhost:8080/",
     "height": 35
    },
    "id": "tlqu4UDQ4e7s",
    "outputId": "c73fad87-4530-4dc2-fa47-7f7e3fb41ebb"
   },
   "outputs": [
    {
     "data": {
      "text/plain": [
       "'love ? well ? ? ? i love ? pretty ? ? ? ? ? ? ? ? ? ? ? ? ? ? ? ? ? ? ? ? ? ? ? ? ? ? ? ?'"
      ]
     },
     "execution_count": 16,
     "metadata": {},
     "output_type": "execute_result"
    }
   ],
   "source": [
    "reverse_word_index = reverse_index(word_index)\n",
    "\n",
    "reconst_text(padded[0], reverse_word_index)"
   ]
  },
  {
   "cell_type": "markdown",
   "metadata": {
    "id": "RiumaBHE45ln"
   },
   "source": [
    "# Labelling"
   ]
  },
  {
   "cell_type": "code",
   "execution_count": 37,
   "metadata": {
    "id": "FFzNaton8KrY"
   },
   "outputs": [],
   "source": [
    "# turn CG to 1 and OR to 0\n",
    "# CG = computer generated, OR = original review\n",
    "def convert_labels(lbls):\n",
    "  converted_labels = []\n",
    "  for label in lbls:\n",
    "    if label == \"CG\":  \n",
    "      converted_labels.append(1)\n",
    "    else:\n",
    "      converted_labels.append(0)\n",
    "  return converted_labels"
   ]
  },
  {
   "cell_type": "code",
   "execution_count": 18,
   "metadata": {
    "id": "0GROnqXg8d3M"
   },
   "outputs": [],
   "source": [
    "convert_lbls = convert_labels(labels)\n"
   ]
  },
  {
   "cell_type": "code",
   "execution_count": 19,
   "metadata": {
    "id": "hVj2PKno83-U"
   },
   "outputs": [],
   "source": [
    "# unite labels and sentences into total chunks\n",
    "def label_data(sentences, labels):\n",
    "  total_chunks = []\n",
    "  for sent, lbl in zip(sentences, labels):\n",
    "    chunk = (sent, lbl)\n",
    "    total_chunks.append(chunk)\n",
    "  return total_chunks"
   ]
  },
  {
   "cell_type": "code",
   "execution_count": 20,
   "metadata": {
    "colab": {
     "base_uri": "https://localhost:8080/"
    },
    "id": "VjNI9zpy-ghl",
    "outputId": "30f87ace-527a-4ba6-e8db-e0d2d7326b10"
   },
   "outputs": [
    {
     "name": "stdout",
     "output_type": "stream",
     "text": [
      "(array([ 9,  0, 10,  0,  0,  0,  1,  9,  0, 85,  0,  0,  0,  0,  0,  0,  0,\n",
      "        0,  0,  0,  0,  0,  0,  0,  0,  0,  0,  0,  0,  0,  0,  0,  0,  0,\n",
      "        0,  0,  0,  0], dtype=int32), 1)\n"
     ]
    }
   ],
   "source": [
    "labelled = label_data(padded, convert_lbls)\n",
    "print(labelled[0])"
   ]
  },
  {
   "cell_type": "markdown",
   "metadata": {
    "id": "KLhuVn0r_xoM"
   },
   "source": [
    "# Split data into training and testing"
   ]
  },
  {
   "cell_type": "code",
   "execution_count": 21,
   "metadata": {
    "id": "LtWVhWad_2Rl"
   },
   "outputs": [],
   "source": [
    "X = np.array(padded)\n",
    "y = np.array(convert_lbls)\n",
    "X_train, X_test, y_train, y_test = train_test_split(X, y, train_size=.8, test_size=0.2, random_state=100)"
   ]
  },
  {
   "cell_type": "markdown",
   "metadata": {
    "id": "GokgNa1SCHJq"
   },
   "source": [
    "# Create model"
   ]
  },
  {
   "cell_type": "markdown",
   "metadata": {
    "id": "86rzyVBPCroc"
   },
   "source": [
    "**DNN**"
   ]
  },
  {
   "cell_type": "code",
   "execution_count": 22,
   "metadata": {
    "id": "p6LO-z0SCgv4"
   },
   "outputs": [],
   "source": [
    "early_stopping = keras.callbacks.EarlyStopping(monitor=\"val_loss\", patience=2, mode=\"min\")\n",
    "reduce_lr = keras.callbacks.ReduceLROnPlateau(monitor='val_loss', factor=0.2, patience=5, min_lr=0.001)"
   ]
  },
  {
   "cell_type": "code",
   "execution_count": 23,
   "metadata": {
    "id": "aVqesy-CFL2x"
   },
   "outputs": [],
   "source": [
    "#create model\n",
    "def create_dnn():\n",
    "  model = keras.Sequential()\n",
    "  model.add(keras.layers.Embedding(100000, 38))\n",
    "  model.add(keras.layers.GlobalAveragePooling1D())\n",
    "  model.add(keras.layers.Dense(32, activation='relu'))\n",
    "  model.add(Dropout(0.1))\n",
    "  model.add(keras.layers.Dense(16, activation='relu'))\n",
    "  model.add(Dropout(0.1))\n",
    "  model.add(keras.layers.Dense(8, activation='relu'))\n",
    "  model.add(Dropout(0.1))\n",
    "  model.add(keras.layers.Dense(1, activation='sigmoid',))\n",
    "  model.summary()\n",
    "  model.compile(optimizer='adam', loss='squared_hinge', metrics=['accuracy'])\n",
    "  return(model)"
   ]
  },
  {
   "cell_type": "code",
   "execution_count": 24,
   "metadata": {
    "colab": {
     "base_uri": "https://localhost:8080/"
    },
    "id": "QASZIeM2FSSZ",
    "outputId": "4cf29a5e-23b9-4409-d6bf-b491d5a275c2"
   },
   "outputs": [
    {
     "name": "stdout",
     "output_type": "stream",
     "text": [
      "Model: \"sequential\"\n",
      "_________________________________________________________________\n",
      " Layer (type)                Output Shape              Param #   \n",
      "=================================================================\n",
      " embedding (Embedding)       (None, None, 38)          3800000   \n",
      "                                                                 \n",
      " global_average_pooling1d (G  (None, 38)               0         \n",
      " lobalAveragePooling1D)                                          \n",
      "                                                                 \n",
      " dense (Dense)               (None, 32)                1248      \n",
      "                                                                 \n",
      " dropout (Dropout)           (None, 32)                0         \n",
      "                                                                 \n",
      " dense_1 (Dense)             (None, 16)                528       \n",
      "                                                                 \n",
      " dropout_1 (Dropout)         (None, 16)                0         \n",
      "                                                                 \n",
      " dense_2 (Dense)             (None, 8)                 136       \n",
      "                                                                 \n",
      " dropout_2 (Dropout)         (None, 8)                 0         \n",
      "                                                                 \n",
      " dense_3 (Dense)             (None, 1)                 9         \n",
      "                                                                 \n",
      "=================================================================\n",
      "Total params: 3,801,921\n",
      "Trainable params: 3,801,921\n",
      "Non-trainable params: 0\n",
      "_________________________________________________________________\n"
     ]
    }
   ],
   "source": [
    "model2 = create_dnn()"
   ]
  },
  {
   "cell_type": "code",
   "execution_count": 25,
   "metadata": {
    "id": "JA_FLmfjGb0v"
   },
   "outputs": [],
   "source": [
    "def train_model2(model, x_train, y_train, x_test, y_test, \n",
    "                val_size=.1, epochs=1, batch_size=32):\n",
    "  vals = int(len(labelled)*val_size)\n",
    "  x_val = x_train[:vals]\n",
    "  x_train = x_train[vals:]\n",
    "  y_val = y_train[:vals]\n",
    "  y_train = y_train[vals:]\n",
    "  \n",
    "  history = model.fit(x_train, y_train, epochs=epochs, batch_size=batch_size, callbacks=[early_stopping, reduce_lr], \n",
    "                      validation_data=(x_val, y_val), \n",
    "                      verbose=1, shuffle=True)\n",
    "    # plotting MAE\n",
    "  plt.plot(history.history['loss'], label='MAE (training data)')\n",
    "  plt.plot(history.history['val_loss'], label='MAE (validation data)')\n",
    "  plt.title('MAE deep neural network')\n",
    "  plt.ylabel('MAE value')\n",
    "  plt.xlabel('No. epoch')\n",
    "  plt.legend(loc=\"upper left\")\n",
    "  plt.show()\n",
    "\n",
    "  model_results = model.evaluate(x_test, y_test)\n",
    "  return model"
   ]
  },
  {
   "cell_type": "code",
   "execution_count": 26,
   "metadata": {
    "colab": {
     "base_uri": "https://localhost:8080/",
     "height": 555
    },
    "id": "AASJMoXcMZbM",
    "outputId": "6daed1a7-31c2-4852-e28a-649dfb3f5887"
   },
   "outputs": [
    {
     "name": "stdout",
     "output_type": "stream",
     "text": [
      "Epoch 1/10\n",
      "885/885 [==============================] - 54s 58ms/step - loss: 0.8345 - accuracy: 0.7016 - val_loss: 0.6848 - val_accuracy: 0.8266 - lr: 0.0010\n",
      "Epoch 2/10\n",
      "885/885 [==============================] - 47s 53ms/step - loss: 0.6665 - accuracy: 0.8570 - val_loss: 0.6741 - val_accuracy: 0.8588 - lr: 0.0010\n",
      "Epoch 3/10\n",
      "885/885 [==============================] - 48s 54ms/step - loss: 0.6351 - accuracy: 0.8859 - val_loss: 0.6782 - val_accuracy: 0.8531 - lr: 0.0010\n",
      "Epoch 4/10\n",
      "885/885 [==============================] - 44s 49ms/step - loss: 0.6216 - accuracy: 0.8996 - val_loss: 0.6963 - val_accuracy: 0.8744 - lr: 0.0010\n"
     ]
    },
    {
     "data": {
      "image/png": "[encoded data removed]",
      "text/plain": [
       "<Figure size 640x480 with 1 Axes>"
      ]
     },
     "metadata": {},
     "output_type": "display_data"
    },
    {
     "name": "stdout",
     "output_type": "stream",
     "text": [
      "253/253 [==============================] - 1s 4ms/step - loss: 0.7027 - accuracy: 0.8688\n"
     ]
    }
   ],
   "source": [
    "model = train_model2(model2, x_train=X_train, y_train=y_train, x_test=X_test, y_test=y_test, epochs=10, batch_size=32)"
   ]
  },
  {
   "cell_type": "code",
   "execution_count": 27,
   "metadata": {
    "id": "_ezMBSIvp81O"
   },
   "outputs": [
    {
     "name": "stdout",
     "output_type": "stream",
     "text": [
      "INFO:tensorflow:Assets written to: models/fake_real.model/assets\n"
     ]
    }
   ],
   "source": [
    "model.save('models/fake_real.model')"
   ]
  },
  {
   "cell_type": "code",
   "execution_count": 28,
   "metadata": {},
   "outputs": [],
   "source": [
    "model = keras.models.load_model(\"models/fake_real.model\")"
   ]
  },
  {
   "cell_type": "markdown",
   "metadata": {},
   "source": [
    "# Fucntions for applying to unseen data"
   ]
  },
  {
   "cell_type": "code",
   "execution_count": 29,
   "metadata": {},
   "outputs": [],
   "source": [
    "# for preprocessing unseen text\n",
    "def get_review(review):\n",
    "    stop_words = stopwords.words('english')\n",
    "    review = [w.lower() for w in review.split() if w not in stop_words]  \n",
    "    return review"
   ]
  },
  {
   "cell_type": "code",
   "execution_count": 30,
   "metadata": {},
   "outputs": [],
   "source": [
    "def padding_review(review, index, maxlen=38):\n",
    "    new_review = []\n",
    "    for word in review:\n",
    "        try:\n",
    "            word = index[word]\n",
    "        except:\n",
    "            KeyError\n",
    "            word = 0\n",
    "        new_review.append(word)\n",
    "\n",
    "    new_reviews = []\n",
    "    new_reviews.append(new_review)\n",
    "    new_reviews = preprocessing.sequence.pad_sequences(new_reviews, maxlen=maxlen, padding='post')\n",
    "    return new_reviews"
   ]
  },
  {
   "cell_type": "code",
   "execution_count": 31,
   "metadata": {
    "id": "q-vopC-tz4RW"
   },
   "outputs": [],
   "source": [
    "# predict\n",
    "def predict_rev(text):\n",
    "    text = get_review(text)\n",
    "    test_padded = padding_review(text, word_index, maxlen=38)\n",
    "    test_array = np.array(test_padded)\n",
    "    prediction = model.predict(test_array)\n",
    "    return prediction\n",
    "    "
   ]
  },
  {
   "cell_type": "markdown",
   "metadata": {},
   "source": [
    "# Predict all reviews"
   ]
  },
  {
   "cell_type": "code",
   "execution_count": 33,
   "metadata": {},
   "outputs": [],
   "source": [
    "file = \"Cell_Phones_&_Accessories.txt\"\n",
    "f_hand = open(file, \"r+\", encoding=\"UTF-8\")\n",
    "contents = f_hand.readlines()\n",
    "reviews = [contents[x:x+11] for x in range(0, len(contents), 11)]  #each review block is now a separate dictionary"
   ]
  },
  {
   "cell_type": "code",
   "execution_count": 38,
   "metadata": {},
   "outputs": [],
   "source": [
    "# save reviews predicted as fake or real in separate lists\n",
    "fake_reviews = []\n",
    "real_reviews = []\n",
    "\n",
    "for rev in reviews[:500]:\n",
    "    new_str = \" \".join([item for item in rev])\n",
    "    \n",
    "    rev_text = rev[9][12:]\n",
    "    predicted = predict_rev(rev_text)\n",
    "    if predicted >= .5:\n",
    "        fake_reviews.append(new_str)\n",
    "    elif predicted < .5:\n",
    "        real_reviews.append(new_str)\n",
    "        "
   ]
  },
  {
   "cell_type": "code",
   "execution_count": 42,
   "metadata": {},
   "outputs": [
    {
     "name": "stdout",
     "output_type": "stream",
     "text": [
      "10.799999999999999 89.2\n"
     ]
    }
   ],
   "source": [
    "fake = 100 / (500 / len(fake_reviews))\n",
    "real = 100 / (500 / len(real_reviews))\n",
    "print(fake, real)"
   ]
  },
  {
   "cell_type": "markdown",
   "metadata": {},
   "source": [
    "Conclusion: \n",
    "\n",
    "I have tested this model only on 500 reviews as far as the number of all reviews is too large and it takes pretty much time. If we take this sample of 500 reviews, we can see that about 11% of reviews are predicted by the model as fake ones. Meaning both people reading reviews on a certain products as well as websites selling products of other companies should pay attention to the fact that about 11% of reviews left on such websites are misleading because they are computer generated. "
   ]
  }
 ],
 "metadata": {
  "colab": {
   "collapsed_sections": [],
   "name": "nokia_ml.ipynb",
   "provenance": []
  },
  "kernelspec": {
   "display_name": "Python 3",
   "language": "python",
   "name": "python3"
  },
  "language_info": {
   "codemirror_mode": {
    "name": "ipython",
    "version": 3
   },
   "file_extension": ".py",
   "mimetype": "text/x-python",
   "name": "python",
   "nbconvert_exporter": "python",
   "pygments_lexer": "ipython3",
   "version": "3.8.10"
  }
 },
 "nbformat": 4,
 "nbformat_minor": 1
}
